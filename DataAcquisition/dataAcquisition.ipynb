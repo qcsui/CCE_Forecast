{
 "cells": [
  {
   "cell_type": "code",
   "execution_count": null,
   "metadata": {},
   "outputs": [],
   "source": [
    "import time\n",
    "\n",
    "import requests\n",
    "\n",
    "\n",
    "URL = \"http://api.caiyunapp.com\"\n",
    "MAX_RETRY = 3\n",
    "data = {}\n",
    "\n",
    "retry_times = 0\n",
    "while retry_times <= MAX_RETRY:\n",
    "  try:\n",
    "    data = requests.get(URL).json()\n",
    "    break\n",
    "  except Exception:\n",
    "    print(\"failed\")\n",
    "    retry_times += 1\n",
    "    time.sleep(retry_times*retry_times)\n",
    "    continue\n",
    "\n",
    "print(data)"
   ]
  }
 ],
 "metadata": {
  "language_info": {
   "name": "python"
  }
 },
 "nbformat": 4,
 "nbformat_minor": 2
}
